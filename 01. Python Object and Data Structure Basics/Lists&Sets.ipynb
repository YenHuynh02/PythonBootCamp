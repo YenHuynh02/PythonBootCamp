{
 "cells": [
  {
   "cell_type": "markdown",
   "id": "fd9f908b",
   "metadata": {},
   "source": [
    "<h1>Lists and Sets</h1>\n",
    "<table>\n",
    "    <tr>\n",
    "        <td>List</td>\n",
    "        <td>Set</td>\n",
    "    </tr>\n",
    "    <tr>\n",
    "        <td>Indexed sequence</td>\n",
    "        <td>Non-indexed sequence</td>\n",
    "    </tr>\n",
    "    <tr>\n",
    "        <td>Allows duplicate elements</td>\n",
    "        <td>Doesn't allow dupplicate elements</td>\n",
    "    </tr>\n",
    "    <tr>\n",
    "        <td>Elements by their position can be accessed</td>\n",
    "        <td>Position access to elements is not allowed</td>\n",
    "    </tr>\n",
    "    <tr>\n",
    "        <td>Multiple null elements can be stored</td>\n",
    "        <td>Null element can store only once</td>\n",
    "    </tr>\n",
    "</table>"
   ]
  },
  {
   "cell_type": "code",
   "execution_count": 3,
   "id": "4d94c832",
   "metadata": {},
   "outputs": [],
   "source": [
    "list = [1, 2, 3]"
   ]
  },
  {
   "cell_type": "code",
   "execution_count": 4,
   "id": "342358b6",
   "metadata": {},
   "outputs": [],
   "source": [
    "list = ['Annie', 'Peter']"
   ]
  },
  {
   "cell_type": "code",
   "execution_count": 5,
   "id": "3f0eb7a4",
   "metadata": {},
   "outputs": [
    {
     "data": {
      "text/plain": [
       "2"
      ]
     },
     "execution_count": 5,
     "metadata": {},
     "output_type": "execute_result"
    }
   ],
   "source": [
    "len(list)"
   ]
  },
  {
   "cell_type": "code",
   "execution_count": 6,
   "id": "459bb618",
   "metadata": {},
   "outputs": [
    {
     "data": {
      "text/plain": [
       "'Annie'"
      ]
     },
     "execution_count": 6,
     "metadata": {},
     "output_type": "execute_result"
    }
   ],
   "source": [
    "list[0]"
   ]
  },
  {
   "cell_type": "code",
   "execution_count": 8,
   "id": "04e02a68",
   "metadata": {},
   "outputs": [
    {
     "data": {
      "text/plain": [
       "['Annie', 'Peter']"
      ]
     },
     "execution_count": 8,
     "metadata": {},
     "output_type": "execute_result"
    }
   ],
   "source": [
    "list[0:] # Support slicing"
   ]
  },
  {
   "cell_type": "code",
   "execution_count": 9,
   "id": "8ea6ae3f",
   "metadata": {},
   "outputs": [],
   "source": [
    "another_list = ['Chip', 'Hang']"
   ]
  },
  {
   "cell_type": "code",
   "execution_count": 10,
   "id": "2443ae41",
   "metadata": {},
   "outputs": [],
   "source": [
    "new = list + another_list  # Concatenation"
   ]
  },
  {
   "cell_type": "code",
   "execution_count": 11,
   "id": "e7ee4d1b",
   "metadata": {},
   "outputs": [
    {
     "data": {
      "text/plain": [
       "['Annie', 'Peter', 'Chip', 'Hang']"
      ]
     },
     "execution_count": 11,
     "metadata": {},
     "output_type": "execute_result"
    }
   ],
   "source": [
    "new"
   ]
  },
  {
   "cell_type": "code",
   "execution_count": null,
   "id": "d33d9111",
   "metadata": {},
   "outputs": [],
   "source": [
    "new.append(\"Yen\") # Added to the end of the list"
   ]
  },
  {
   "cell_type": "code",
   "execution_count": 13,
   "id": "650cdafd",
   "metadata": {},
   "outputs": [
    {
     "data": {
      "text/plain": [
       "['Annie', 'Peter', 'Chip', 'Hang', 'Yen']"
      ]
     },
     "execution_count": 13,
     "metadata": {},
     "output_type": "execute_result"
    }
   ],
   "source": [
    "new"
   ]
  },
  {
   "cell_type": "code",
   "execution_count": null,
   "id": "3657eae3",
   "metadata": {},
   "outputs": [
    {
     "data": {
      "text/plain": [
       "'Yen'"
      ]
     },
     "execution_count": 14,
     "metadata": {},
     "output_type": "execute_result"
    }
   ],
   "source": [
    "new.pop() # Remove the last element"
   ]
  },
  {
   "cell_type": "code",
   "execution_count": 15,
   "id": "dbf12b7a",
   "metadata": {},
   "outputs": [
    {
     "data": {
      "text/plain": [
       "['Annie', 'Peter', 'Chip', 'Hang']"
      ]
     },
     "execution_count": 15,
     "metadata": {},
     "output_type": "execute_result"
    }
   ],
   "source": [
    "new"
   ]
  },
  {
   "cell_type": "code",
   "execution_count": 16,
   "id": "79d3b0e8",
   "metadata": {},
   "outputs": [
    {
     "data": {
      "text/plain": [
       "'Hang'"
      ]
     },
     "execution_count": 16,
     "metadata": {},
     "output_type": "execute_result"
    }
   ],
   "source": [
    "new.pop(3) # Remove the element at index 3"
   ]
  },
  {
   "cell_type": "code",
   "execution_count": 17,
   "id": "a2c989bd",
   "metadata": {},
   "outputs": [
    {
     "data": {
      "text/plain": [
       "['Annie', 'Peter', 'Chip']"
      ]
     },
     "execution_count": 17,
     "metadata": {},
     "output_type": "execute_result"
    }
   ],
   "source": [
    "new"
   ]
  },
  {
   "cell_type": "code",
   "execution_count": 18,
   "id": "89c79388",
   "metadata": {},
   "outputs": [],
   "source": [
    "new.sort() # Sort the list in place"
   ]
  },
  {
   "cell_type": "code",
   "execution_count": 19,
   "id": "cfd15db2",
   "metadata": {},
   "outputs": [
    {
     "data": {
      "text/plain": [
       "['Annie', 'Chip', 'Peter']"
      ]
     },
     "execution_count": 19,
     "metadata": {},
     "output_type": "execute_result"
    }
   ],
   "source": [
    "new"
   ]
  },
  {
   "cell_type": "code",
   "execution_count": 20,
   "id": "6604a8bb",
   "metadata": {},
   "outputs": [
    {
     "data": {
      "text/plain": [
       "list"
      ]
     },
     "execution_count": 20,
     "metadata": {},
     "output_type": "execute_result"
    }
   ],
   "source": [
    "type(new)  # Check the type of new"
   ]
  },
  {
   "cell_type": "code",
   "execution_count": 21,
   "id": "f5ee04ab",
   "metadata": {},
   "outputs": [],
   "source": [
    "new.reverse()  # Reverse the list in place"
   ]
  },
  {
   "cell_type": "code",
   "execution_count": 22,
   "id": "8e4b2f1e",
   "metadata": {},
   "outputs": [
    {
     "data": {
      "text/plain": [
       "['Peter', 'Chip', 'Annie']"
      ]
     },
     "execution_count": 22,
     "metadata": {},
     "output_type": "execute_result"
    }
   ],
   "source": [
    "new"
   ]
  }
 ],
 "metadata": {
  "kernelspec": {
   "display_name": "Python 3",
   "language": "python",
   "name": "python3"
  },
  "language_info": {
   "codemirror_mode": {
    "name": "ipython",
    "version": 3
   },
   "file_extension": ".py",
   "mimetype": "text/x-python",
   "name": "python",
   "nbconvert_exporter": "python",
   "pygments_lexer": "ipython3",
   "version": "3.10.7"
  }
 },
 "nbformat": 4,
 "nbformat_minor": 5
}
