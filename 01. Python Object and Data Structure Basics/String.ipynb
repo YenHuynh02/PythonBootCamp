{
 "cells": [
  {
   "cell_type": "markdown",
   "id": "90056919",
   "metadata": {},
   "source": [
    "<h1>Create a string</h1>"
   ]
  },
  {
   "cell_type": "code",
   "execution_count": 16,
   "id": "48e99f6f",
   "metadata": {},
   "outputs": [
    {
     "data": {
      "text/plain": [
       "'Hello'"
      ]
     },
     "execution_count": 16,
     "metadata": {},
     "output_type": "execute_result"
    }
   ],
   "source": [
    "'Hello'"
   ]
  },
  {
   "cell_type": "code",
   "execution_count": 17,
   "id": "860e1588",
   "metadata": {},
   "outputs": [
    {
     "data": {
      "text/plain": [
       "5"
      ]
     },
     "execution_count": 17,
     "metadata": {},
     "output_type": "execute_result"
    }
   ],
   "source": [
    "#Length of string\n",
    "len(\"Annie\")"
   ]
  },
  {
   "cell_type": "code",
   "execution_count": null,
   "id": "2dd06a08",
   "metadata": {},
   "outputs": [
    {
     "name": "stdout",
     "output_type": "stream",
     "text": [
      "Ann\n"
     ]
    },
    {
     "data": {
      "text/plain": [
       "'An'"
      ]
     },
     "execution_count": 21,
     "metadata": {},
     "output_type": "execute_result"
    }
   ],
   "source": [
    "# Slicing a string\n",
    "print(\"Annie\"[0:3])\n",
    "print(\"Annie\"[3:])\n",
    "print(\"Annie\"[:2])"
   ]
  },
  {
   "cell_type": "code",
   "execution_count": null,
   "id": "0f64d3fa",
   "metadata": {},
   "outputs": [],
   "source": []
  },
  {
   "cell_type": "code",
   "execution_count": null,
   "id": "f256ff23",
   "metadata": {},
   "outputs": [],
   "source": []
  },
  {
   "cell_type": "markdown",
   "id": "67879e3e",
   "metadata": {},
   "source": [
    "<h1>Format in string</h1>"
   ]
  },
  {
   "cell_type": "code",
   "execution_count": 14,
   "id": "2b2db4b0",
   "metadata": {},
   "outputs": [
    {
     "name": "stdout",
     "output_type": "stream",
     "text": [
      "My name is Annie and his name is Peter.\n"
     ]
    }
   ],
   "source": [
    "print(\"My name is {0} and his name is {1}.\".format(\"Annie\", \"Peter\"))"
   ]
  },
  {
   "cell_type": "code",
   "execution_count": 15,
   "id": "06f3691f",
   "metadata": {},
   "outputs": [
    {
     "name": "stdout",
     "output_type": "stream",
     "text": [
      "Hello World\n"
     ]
    }
   ],
   "source": [
    "print(\"{}\".format(\"Hello World\"))"
   ]
  },
  {
   "cell_type": "code",
   "execution_count": 11,
   "id": "cedc033f",
   "metadata": {},
   "outputs": [
    {
     "name": "stdout",
     "output_type": "stream",
     "text": [
      "Annie, Peter, Annie\n"
     ]
    }
   ],
   "source": [
    "print(\"{e}, {a}, {e}\".format(e=\"Annie\", a=\"Peter\"))"
   ]
  }
 ],
 "metadata": {
  "kernelspec": {
   "display_name": "Python 3",
   "language": "python",
   "name": "python3"
  },
  "language_info": {
   "codemirror_mode": {
    "name": "ipython",
    "version": 3
   },
   "file_extension": ".py",
   "mimetype": "text/x-python",
   "name": "python",
   "nbconvert_exporter": "python",
   "pygments_lexer": "ipython3",
   "version": "3.10.7"
  }
 },
 "nbformat": 4,
 "nbformat_minor": 5
}
